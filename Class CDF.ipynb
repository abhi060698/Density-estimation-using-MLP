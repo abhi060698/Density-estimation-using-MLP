{
 "cells": [
  {
   "cell_type": "code",
   "execution_count": 1,
   "metadata": {},
   "outputs": [
    {
     "name": "stderr",
     "output_type": "stream",
     "text": [
      "/home/abhishek/anaconda3/lib/python3.6/site-packages/h5py/__init__.py:36: FutureWarning: Conversion of the second argument of issubdtype from `float` to `np.floating` is deprecated. In future, it will be treated as `np.float64 == np.dtype(float).type`.\n",
      "  from ._conv import register_converters as _register_converters\n",
      "Using TensorFlow backend.\n"
     ]
    }
   ],
   "source": [
    "\"\"\"This program will generate CDF and PDF distributions for a given dataset, allowing us to do survival analysis\"\"\"\n",
    "import pandas as pd\n",
    "import keras \n",
    "import numpy as np\n",
    "import matplotlib.pyplot as plt\n",
    "import sklearn    \n",
    "from sklearn.preprocessing import MinMaxScaler\n",
    "scaler = MinMaxScaler()\n",
    "import keras.backend as K"
   ]
  },
  {
   "cell_type": "code",
   "execution_count": 2,
   "metadata": {},
   "outputs": [],
   "source": [
    "class CDF:\n",
    "    \n",
    "   def  __init__(self,X,Y):\n",
    "        \n",
    "        import ANN\n",
    "        self.X = X\n",
    "        self.Y = Y\n",
    "        np.random.seed(7)\n",
    "        self.c = ANN.ANN(self.X,self.Y,[1,5,1],input_activation=None,hidden_layers_activation='tanh',output_activation='sigmoid',optimizer='RMSprop',epochs=30,batch_size=5)\n",
    "       \n",
    "   def predict_CDF(self,P):\n",
    "        data = self.c.predict(P)\n",
    "        data = np.array(data)\n",
    "        survival = 1-data\n",
    "        result = (np.all(np.diff(data) > 0))\n",
    "        \n",
    "        if(result==True):\n",
    "            print(\"CDF obtained is monotonically increasing\")\n",
    "            plt.figure(0)\n",
    "            plt.title('QQ plot')\n",
    "            plt.xlabel('True CDF')\n",
    "            plt.ylabel('Predicted CDF')\n",
    "            plt.plot(self.Y,self.Y,label='true vs true')\n",
    "            plt.plot(data,self.Y,label='pred vs true')\n",
    "            plt.legend(loc='upper left')\n",
    "            plt.figure(1)\n",
    "            plt.title('CDF plot')\n",
    "            plt.ylabel('CDF')\n",
    "            plt.xlabel('Time to failure')\n",
    "            plt.plot(P,data)\n",
    "            plt.plot()\n",
    "            return data\n",
    "        \n",
    "        else:\n",
    "            print(\"CDF obtained is non-conformant to properties required\")\n",
    "            return data\n",
    "        \n",
    "   def predict_PDF(self,P):\n",
    "        \n",
    "        data = self.c.predict(P)\n",
    "        data = np.array(data)\n",
    "        P1   = np.array(P)\n",
    "        PDF  = np.diff(data,axis=0)/np.diff(P,axis=0)\n",
    "        PDF  = np.array(PDF)\n",
    "        plt.xlabel('Time to failure')\n",
    "        plt.ylabel('PDF')\n",
    "        plt.plot(P[1:,:],PDF,label='obtained PDF')\n",
    "        plt.legend(loc='upper left')\n",
    "        \"\"\"PDF2 = np.sort(PDF)\n",
    "        PDF2 = np.array(PDF2)\n",
    "        from scipy.integrate import simps\n",
    "        from numpy import trapz\n",
    "        area = (np.sum(PDF2)*(P[1]-P[0]))\n",
    "        print(\"area under PDF curve is\",area)\n",
    "        \"\"\"\n",
    "        print(\"Pdf obtained is\")\n",
    "        return PDF"
   ]
  },
  {
   "cell_type": "code",
   "execution_count": 3,
   "metadata": {},
   "outputs": [],
   "source": [
    "from scipy.stats import weibull_min\n",
    "rv2= np.arange(0,10,0.01)\n",
    "rv2n=(rv2-min(rv2))/(max(rv2)-min(rv2))\n",
    "a=2\n",
    "c=3\n",
    "cdf2=weibull_min.cdf(rv2, a, loc=0, scale=c)\n",
    "X = rv2n\n",
    "X = np.array(X)\n",
    "X = X.reshape(-1,1)\n",
    "#X = scaler.fit_transform(X)\n",
    "Y = cdf2\n",
    "Y = np.array(Y)\n",
    "Y = np.sort(Y)\n"
   ]
  },
  {
   "cell_type": "code",
   "execution_count": null,
   "metadata": {},
   "outputs": [
    {
     "name": "stdout",
     "output_type": "stream",
     "text": [
      "(self,X,Y,nodes=,model=model,activation='softmax',loss='categorical_crossentropy',optimizer='adam',\n",
      "         epochs=10,batch_size=200,kernel_init='normal') are the parameters of the constructors for class ANN\n",
      "         \n",
      "         X,Y and input_dim are the essential parameters.The remaining parameters are all optional.\n",
      "         \n",
      "         An example of a call to the constructor is :      c = ANN(X,Y,20)\n",
      "         \n",
      "         However, if we want to replace certain defaults,  c = ANN(X,Y,20,optimixer='RMSProp')\n",
      "_________________________________________________________________\n",
      "Layer (type)                 Output Shape              Param #   \n",
      "=================================================================\n",
      "dense_1 (Dense)              (None, 1)                 2         \n",
      "_________________________________________________________________\n",
      "dense_2 (Dense)              (None, 5)                 10        \n",
      "_________________________________________________________________\n",
      "dense_3 (Dense)              (None, 1)                 6         \n",
      "=================================================================\n",
      "Total params: 18\n",
      "Trainable params: 18\n",
      "Non-trainable params: 0\n",
      "_________________________________________________________________\n",
      "None\n",
      "Epoch 1/30\n",
      " - 0s - loss: 0.7670\n",
      "Epoch 2/30\n",
      " - 0s - loss: 0.5954\n",
      "Epoch 3/30\n",
      " - 0s - loss: 0.5359\n",
      "Epoch 4/30\n",
      " - 0s - loss: 0.4997\n",
      "Epoch 5/30\n",
      " - 0s - loss: 0.4490\n",
      "Epoch 6/30\n",
      " - 0s - loss: 0.3690\n",
      "Epoch 7/30\n",
      " - 0s - loss: 0.2381\n",
      "Epoch 8/30\n",
      " - 0s - loss: 0.0981\n",
      "Epoch 9/30\n",
      " - 0s - loss: 0.0252\n",
      "Epoch 10/30\n",
      " - 0s - loss: 0.0035\n",
      "Epoch 11/30\n",
      " - 0s - loss: 0.0019\n",
      "Epoch 12/30\n",
      " - 0s - loss: 0.0018\n",
      "Epoch 13/30\n",
      " - 0s - loss: 0.0018\n",
      "Epoch 14/30\n",
      " - 0s - loss: 0.0018\n",
      "Epoch 15/30\n",
      " - 0s - loss: 0.0018\n",
      "Epoch 16/30\n",
      " - 0s - loss: 0.0018\n",
      "Epoch 17/30\n"
     ]
    }
   ],
   "source": [
    "r = CDF(X,Y)"
   ]
  },
  {
   "cell_type": "code",
   "execution_count": null,
   "metadata": {},
   "outputs": [],
   "source": [
    "test = pd.read_csv('generate500.csv')\n",
    "test = np.array(test)\n",
    "test = np.sort(test)\n",
    "#test = test.reshape(-1,1)\n",
    "#test = scaler.fit_transform(test)\n",
    "r.predict_CDF(X)"
   ]
  },
  {
   "cell_type": "code",
   "execution_count": null,
   "metadata": {
    "scrolled": true
   },
   "outputs": [],
   "source": [
    "r.predict_PDF(X)"
   ]
  },
  {
   "cell_type": "code",
   "execution_count": null,
   "metadata": {},
   "outputs": [],
   "source": []
  },
  {
   "cell_type": "code",
   "execution_count": null,
   "metadata": {},
   "outputs": [],
   "source": []
  }
 ],
 "metadata": {
  "kernelspec": {
   "display_name": "Python 3",
   "language": "python",
   "name": "python3"
  },
  "language_info": {
   "codemirror_mode": {
    "name": "ipython",
    "version": 3
   },
   "file_extension": ".py",
   "mimetype": "text/x-python",
   "name": "python",
   "nbconvert_exporter": "python",
   "pygments_lexer": "ipython3",
   "version": "3.6.5"
  }
 },
 "nbformat": 4,
 "nbformat_minor": 2
}
